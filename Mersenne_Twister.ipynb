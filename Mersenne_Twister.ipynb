{
 "cells": [
  {
   "cell_type": "markdown",
   "id": "0f60e1c6-5146-4430-9b3a-ee39a8108c5c",
   "metadata": {},
   "source": [
    "**L'algoritmo Mersenne Twister** è un generatore di numeri pseudo-casuali, è molto utilizzato in ambito scientifico e informatico. \n",
    "\n",
    "In Python, è possibile utilizzare la libreria standard `random` che implementa già l'algoritmo Mersenne Twister. "
   ]
  },
  {
   "cell_type": "code",
   "execution_count": 16,
   "id": "ef1d84bf-b636-462a-8db1-dbe9ba846bec",
   "metadata": {},
   "outputs": [],
   "source": [
    "class MersenneTwister:\n",
    "    \"\"\"\n",
    "    Generatore di numeri pseudo casuali basato sull'algoritmo di Mersenne Twister.\n",
    "    \"\"\"\n",
    "    def __init__(self, seed):\n",
    "        \"\"\"\n",
    "        Inizializza il generatore con un seme.\n",
    "\n",
    "        Args:\n",
    "            seed: il seme iniziale\n",
    "        \"\"\"\n",
    "        self.state_size = 624\n",
    "        self.extract_size = 32\n",
    "        self.state = [0] * self.state_size   \n",
    "        self.index = self.state_size + 1         \n",
    "        self.initialize_generator(seed)\n",
    "\n",
    "    def initialize_generator(self, seed):\n",
    "        \"\"\"\n",
    "        Inizializza lo stato del generatore a partire dal seme.\n",
    "\n",
    "        Args:\n",
    "            seed: il seme iniziale\n",
    "        \"\"\"\n",
    "        self.state[0] = seed\n",
    "        for i in range(1, self.state_size):\n",
    "            prev = self.state[i-1]\n",
    "            self.state[i] = ((1812433253 * (prev ^ (prev >> 30))) + i) & 0xffffffff\n",
    "\n",
    "    def generate_numbers(self):\n",
    "        \"\"\"\n",
    "        Genera una nuova serie di numeri casuali.\n",
    "        \"\"\"\n",
    "        for i in range(self.state_size):\n",
    "            x = (self.state[i] & 0x80000000) + (self.state[(i+1) % self.state_size] & 0x7fffffff)\n",
    "            xA = x >> 1\n",
    "            if x % 2 != 0:\n",
    "                xA = xA ^ 0x9908b0df\n",
    "            self.state[i] = self.state[(i + self.extract_size) % self.state_size] ^ xA\n",
    "        self.index = 0\n",
    "\n",
    "    def extract_number(self):\n",
    "        \"\"\"\n",
    "        Estrae un numero casuale dal generatore.\n",
    "\n",
    "        Returns:\n",
    "            Un numero casuale a 32 bit come float tra 0 e 1.\n",
    "        \"\"\"\n",
    "        if self.index >= self.state_size:\n",
    "            if self.index > self.state_size:\n",
    "                raise ValueError(\"Generator was never seeded\")\n",
    "            self.generate_numbers()\n",
    "\n",
    "        y = self.state[self.index]\n",
    "        y = y ^ (y >> 11)\n",
    "        y = y ^ ((y << 7) & 0x9d2c5680)\n",
    "        y = y ^ ((y << 15) & 0xefc60000)\n",
    "        y = y ^ (y >> 18)\n",
    "\n",
    "        self.index += 1\n",
    "        return float(y) / 0xffffffff\n"
   ]
  },
  {
   "cell_type": "code",
   "execution_count": 17,
   "id": "c5d56d26-9934-4d4b-a282-612ddeb2f220",
   "metadata": {},
   "outputs": [],
   "source": [
    "rnd = MersenneTwister(seed=44)"
   ]
  },
  {
   "cell_type": "code",
   "execution_count": 27,
   "id": "3a239d77-8b3a-4be0-b909-4db3ec14e1b9",
   "metadata": {},
   "outputs": [],
   "source": [
    "rnd.generate_numbers()"
   ]
  },
  {
   "cell_type": "code",
   "execution_count": 33,
   "id": "7875897c-0e3f-4863-aa7e-db82b65f4845",
   "metadata": {},
   "outputs": [
    {
     "data": {
      "text/plain": [
       "0.288722163366322"
      ]
     },
     "execution_count": 33,
     "metadata": {},
     "output_type": "execute_result"
    }
   ],
   "source": [
    "rnd.extract_number()"
   ]
  },
  {
   "cell_type": "code",
   "execution_count": 34,
   "id": "1ed434b0-0a7e-411e-89b6-e4325968f7a9",
   "metadata": {},
   "outputs": [],
   "source": [
    "random_number = []\n",
    "\n",
    "for i in range(1,20):\n",
    "    x = rnd.extract_number()\n",
    "    random_number.append(x)\n",
    "    "
   ]
  },
  {
   "cell_type": "code",
   "execution_count": 35,
   "id": "f000d5c9-d618-44c1-aba3-bbe54e219209",
   "metadata": {},
   "outputs": [
    {
     "data": {
      "text/plain": [
       "[0.3337819900675169,\n",
       " 0.15378412049118992,\n",
       " 0.2713051534423849,\n",
       " 0.3857214605402484,\n",
       " 0.2829385416775333,\n",
       " 0.17380500682019745,\n",
       " 0.009757181864640951,\n",
       " 0.6633534670489266,\n",
       " 0.7845893580896289,\n",
       " 0.051765650522840594,\n",
       " 0.06879012055434057,\n",
       " 0.7476742402062925,\n",
       " 0.6241422881428483,\n",
       " 0.9066084299484753,\n",
       " 0.4130688692473501,\n",
       " 0.5970354374956888,\n",
       " 0.577283390233592,\n",
       " 0.8998397281160205,\n",
       " 0.4313639531450728]"
      ]
     },
     "execution_count": 35,
     "metadata": {},
     "output_type": "execute_result"
    }
   ],
   "source": [
    "random_number"
   ]
  },
  {
   "cell_type": "code",
   "execution_count": 36,
   "id": "16a25d7c-f71f-4090-9c24-73ddcd83b12c",
   "metadata": {},
   "outputs": [],
   "source": [
    "mean = sum(casual_number)/len(casual_number)"
   ]
  },
  {
   "cell_type": "code",
   "execution_count": 37,
   "id": "12f9b71b-c19a-4a98-b9b0-e035ef2fe130",
   "metadata": {},
   "outputs": [
    {
     "data": {
      "text/plain": [
       "0.44087412566604156"
      ]
     },
     "execution_count": 37,
     "metadata": {},
     "output_type": "execute_result"
    }
   ],
   "source": [
    "mean"
   ]
  },
  {
   "cell_type": "code",
   "execution_count": null,
   "id": "b3ff0b82-02de-4382-8bf8-b6019dcffb00",
   "metadata": {},
   "outputs": [],
   "source": []
  },
  {
   "cell_type": "code",
   "execution_count": null,
   "id": "b4394d25-376f-4378-bed0-c72581082336",
   "metadata": {},
   "outputs": [],
   "source": []
  },
  {
   "cell_type": "code",
   "execution_count": null,
   "id": "1550f241-0379-496d-a989-a9e087a8d387",
   "metadata": {},
   "outputs": [],
   "source": []
  },
  {
   "cell_type": "code",
   "execution_count": null,
   "id": "c886ec98-8617-4d10-a804-8b89f9808df6",
   "metadata": {},
   "outputs": [],
   "source": []
  },
  {
   "cell_type": "code",
   "execution_count": null,
   "id": "5fd813f8-2132-4cd7-8ab6-c6401aa255e0",
   "metadata": {},
   "outputs": [],
   "source": []
  },
  {
   "cell_type": "code",
   "execution_count": null,
   "id": "d22866c9-b717-4148-a23d-59f4bf90778b",
   "metadata": {},
   "outputs": [],
   "source": []
  },
  {
   "cell_type": "code",
   "execution_count": null,
   "id": "d2a66fe3-a5ca-4459-831d-ac48fc9b3c9d",
   "metadata": {},
   "outputs": [],
   "source": []
  },
  {
   "cell_type": "code",
   "execution_count": null,
   "id": "96699693-5416-4bba-ac10-ce37f63bd9ef",
   "metadata": {},
   "outputs": [],
   "source": []
  },
  {
   "cell_type": "code",
   "execution_count": null,
   "id": "c543e1aa-fd29-4f5b-88ff-accebce9fe0c",
   "metadata": {},
   "outputs": [],
   "source": []
  }
 ],
 "metadata": {
  "kernelspec": {
   "display_name": "Python 3 (ipykernel)",
   "language": "python",
   "name": "python3"
  },
  "language_info": {
   "codemirror_mode": {
    "name": "ipython",
    "version": 3
   },
   "file_extension": ".py",
   "mimetype": "text/x-python",
   "name": "python",
   "nbconvert_exporter": "python",
   "pygments_lexer": "ipython3",
   "version": "3.9.13"
  }
 },
 "nbformat": 4,
 "nbformat_minor": 5
}
